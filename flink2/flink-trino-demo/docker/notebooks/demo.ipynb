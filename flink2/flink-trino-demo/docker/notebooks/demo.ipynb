{
 "cells": [
  {
   "cell_type": "code",
   "execution_count": 1,
   "id": "f0914f24-d15b-4c16-879d-38f31a5b0749",
   "metadata": {},
   "outputs": [
    {
     "name": "stdout",
     "output_type": "stream",
     "text": [
      "Collecting trino\n",
      "  Downloading trino-0.334.0-py3-none-any.whl.metadata (20 kB)\n",
      "Collecting lz4 (from trino)\n",
      "  Downloading lz4-4.4.4-cp311-cp311-manylinux_2_17_aarch64.manylinux2014_aarch64.whl.metadata (3.8 kB)\n",
      "Requirement already satisfied: python-dateutil in /opt/conda/lib/python3.11/site-packages (from trino) (2.8.2)\n",
      "Requirement already satisfied: pytz in /opt/conda/lib/python3.11/site-packages (from trino) (2023.3.post1)\n",
      "Requirement already satisfied: requests>=2.31.0 in /opt/conda/lib/python3.11/site-packages (from trino) (2.31.0)\n",
      "Collecting tzlocal (from trino)\n",
      "  Downloading tzlocal-5.3.1-py3-none-any.whl.metadata (7.6 kB)\n",
      "Requirement already satisfied: zstandard in /opt/conda/lib/python3.11/site-packages (from trino) (0.21.0)\n",
      "Requirement already satisfied: charset-normalizer<4,>=2 in /opt/conda/lib/python3.11/site-packages (from requests>=2.31.0->trino) (3.3.0)\n",
      "Requirement already satisfied: idna<4,>=2.5 in /opt/conda/lib/python3.11/site-packages (from requests>=2.31.0->trino) (3.4)\n",
      "Requirement already satisfied: urllib3<3,>=1.21.1 in /opt/conda/lib/python3.11/site-packages (from requests>=2.31.0->trino) (2.0.7)\n",
      "Requirement already satisfied: certifi>=2017.4.17 in /opt/conda/lib/python3.11/site-packages (from requests>=2.31.0->trino) (2023.7.22)\n",
      "Requirement already satisfied: six>=1.5 in /opt/conda/lib/python3.11/site-packages (from python-dateutil->trino) (1.16.0)\n",
      "Downloading trino-0.334.0-py3-none-any.whl (57 kB)\n",
      "\u001b[2K   \u001b[90m━━━━━━━━━━━━━━━━━━━━━━━━━━━━━━━━━━━━━━━━\u001b[0m \u001b[32m57.8/57.8 kB\u001b[0m \u001b[31m1.7 MB/s\u001b[0m eta \u001b[36m0:00:00\u001b[0m\n",
      "\u001b[?25hDownloading lz4-4.4.4-cp311-cp311-manylinux_2_17_aarch64.manylinux2014_aarch64.whl (1.2 MB)\n",
      "\u001b[2K   \u001b[90m━━━━━━━━━━━━━━━━━━━━━━━━━━━━━━━━━━━━━━━━\u001b[0m \u001b[32m1.2/1.2 MB\u001b[0m \u001b[31m12.5 MB/s\u001b[0m eta \u001b[36m0:00:00\u001b[0m \u001b[36m0:00:01\u001b[0m\n",
      "\u001b[?25hDownloading tzlocal-5.3.1-py3-none-any.whl (18 kB)\n",
      "Installing collected packages: tzlocal, lz4, trino\n",
      "Successfully installed lz4-4.4.4 trino-0.334.0 tzlocal-5.3.1\n",
      "Note: you may need to restart the kernel to use updated packages.\n"
     ]
    }
   ],
   "source": [
    "%pip install trino"
   ]
  },
  {
   "cell_type": "code",
   "execution_count": 2,
   "id": "a40e25f4-bbbf-4dd5-94e2-971dd1d776cf",
   "metadata": {},
   "outputs": [
    {
     "name": "stdout",
     "output_type": "stream",
     "text": [
      "[['default'], ['information_schema']]\n"
     ]
    }
   ],
   "source": [
    "from trino.dbapi import connect\n",
    "\n",
    "conn = connect(\n",
    "    host=\"trino\",\n",
    "    port=8080,\n",
    "    user=\"trino\",\n",
    "    catalog=\"memory\",\n",
    "    schema=\"default\",\n",
    ")\n",
    "cur = conn.cursor()\n",
    "cur.execute(\"SHOW SCHEMAS from memory\")\n",
    "rows = cur.fetchall()\n",
    "print(rows);"
   ]
  },
  {
   "cell_type": "markdown",
   "id": "4d450af6-9764-48af-b54e-8707d3187c14",
   "metadata": {},
   "source": [
    "Marquez -> http://localhost:3000/"
   ]
  },
  {
   "cell_type": "code",
   "execution_count": 3,
   "id": "3ec42247-a281-4890-b31c-86090786289e",
   "metadata": {},
   "outputs": [],
   "source": [
    "cur.execute(\"\"\"CREATE TABLE memory.default.trino_output (\n",
    "                  ts_interval varchar,\n",
    "                  max_log_date varchar,\n",
    "                  max_log_time varchar,\n",
    "                  max_ts varchar,\n",
    "                  counter bigint,\n",
    "                  user_id int,\n",
    "                  max_price decimal(38, 18)\n",
    "                )\"\"\");"
   ]
  },
  {
   "cell_type": "markdown",
   "id": "f13b988b-83a1-499b-8f00-90bf814f2840",
   "metadata": {},
   "source": [
    "### Start First flink job first to feed trino_output. Then proceed with other queries"
   ]
  },
  {
   "cell_type": "code",
   "execution_count": 4,
   "id": "95673266-4416-49c1-9883-8eec2ddfa7a8",
   "metadata": {},
   "outputs": [],
   "source": [
    "cur.execute(\"\"\"CREATE TABLE memory.default.user_features1 (user_id int, col_1 int,col_2 int, col_3 int)\"\"\");"
   ]
  },
  {
   "cell_type": "code",
   "execution_count": 5,
   "id": "760d2625-adb2-4723-8f48-0106f9bbc0e1",
   "metadata": {},
   "outputs": [],
   "source": [
    "cur.execute(\"\"\"CREATE TABLE memory.default.user_features2 (user_id int, col_4 int,col_5 int, col_6 int)\"\"\");"
   ]
  },
  {
   "cell_type": "code",
   "execution_count": 6,
   "id": "c3b3e967-0912-4925-a4a0-b60afec656a2",
   "metadata": {},
   "outputs": [],
   "source": [
    "cur.execute(\"\"\"CREATE TABLE memory.default.user_features3 (user_id int, col_7 int,col_8 int, col_9 int)\"\"\");"
   ]
  },
  {
   "cell_type": "code",
   "execution_count": 7,
   "id": "5fb35de1-ca11-40f0-9936-b0ddf207bf18",
   "metadata": {},
   "outputs": [],
   "source": [
    "cur.execute(\"\"\"\n",
    "   CREATE TABLE memory.default.trino_result\n",
    "   AS SELECT\n",
    "     r.user_id as user_id,\n",
    "     sum(r.counter) as max_counter, \n",
    "     max(f1.col_1) as col_a, \n",
    "     max(f2.col_4) as col_b, \n",
    "     max(f3.col_7) as col_c\n",
    "   FROM memory.default.trino_output r\n",
    "   LEFT JOIN memory.default.user_features1 f1 ON f1.user_id=r.user_id\n",
    "   LEFT JOIN memory.default.user_features2 f2 ON f2.user_id=r.user_id\n",
    "   LEFT JOIN memory.default.user_features3 f3 ON f3.user_id=r.user_id\n",
    "   GROUP BY r.user_id\n",
    "\"\"\");"
   ]
  },
  {
   "cell_type": "code",
   "execution_count": 32,
   "id": "9081e358-0ffc-43da-aa19-60b3f2546fbe",
   "metadata": {},
   "outputs": [],
   "source": [
    "#cur.execute(\"\"\"DROP TABLE memory.default.trino_result\"\"\")"
   ]
  },
  {
   "cell_type": "code",
   "execution_count": 8,
   "id": "66a5d9aa-71bb-4c9d-af82-4877b27bb24a",
   "metadata": {},
   "outputs": [
    {
     "name": "stdout",
     "output_type": "stream",
     "text": [
      "[[104, 1, None, None, None], [103, 1, None, None, None], [102, 1, None, None, None], [101, 1, None, None, None], [105, 1, None, None, None]]\n"
     ]
    }
   ],
   "source": [
    "cur.execute(\"select * from memory.default.trino_result\");\n",
    "rows = cur.fetchall()\n",
    "print(rows);"
   ]
  }
 ],
 "metadata": {
  "kernelspec": {
   "display_name": "Python 3 (ipykernel)",
   "language": "python",
   "name": "python3"
  },
  "language_info": {
   "codemirror_mode": {
    "name": "ipython",
    "version": 3
   },
   "file_extension": ".py",
   "mimetype": "text/x-python",
   "name": "python",
   "nbconvert_exporter": "python",
   "pygments_lexer": "ipython3",
   "version": "3.11.6"
  }
 },
 "nbformat": 4,
 "nbformat_minor": 5
}

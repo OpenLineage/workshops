{
 "cells": [
  {
   "cell_type": "code",
   "execution_count": 10,
   "metadata": {},
   "outputs": [],
   "source": [
    "from openlineage.client.run import RunEvent, RunState, Run, Job, Dataset\n",
    "from openlineage.client.client import OpenLineageClient\n",
    "from datetime import datetime\n",
    "from uuid import uuid4"
   ]
  },
  {
   "cell_type": "code",
   "execution_count": 11,
   "metadata": {},
   "outputs": [],
   "source": [
    "# Initialize the OpenLineage client\n",
    "client = OpenLineageClient.from_environment()\n",
    "\n",
    "# Specify the producer of this lineage metadata\n",
    "producer = 'https://github.com/OpenLineage/workshops'"
   ]
  },
  {
   "cell_type": "code",
   "execution_count": 12,
   "metadata": {},
   "outputs": [],
   "source": [
    "# Create some basic Dataset objects for our fictional pipeline\n",
    "online_orders = Dataset(namespace='workshop', name='online_orders')\n",
    "mail_orders = Dataset(namespace='workshop', name='mail_orders')\n",
    "orders = Dataset(namespace='workshop', name='orders')"
   ]
  },
  {
   "cell_type": "code",
   "execution_count": 13,
   "metadata": {},
   "outputs": [],
   "source": [
    "# Generate a unique ID for this run\n",
    "runID = str(uuid4())\n",
    "\n",
    "# Emit a START run event\n",
    "client.emit(RunEvent(\n",
    "    RunState.START,\n",
    "    datetime.now().isoformat(),\n",
    "    Run(runID),\n",
    "    Job(namespace='workshop', name='process_orders'),\n",
    "    producer\n",
    "))\n",
    "\n",
    "# This is where our application would do the actual work\n",
    "#\n",
    "# <---\n",
    "#\n",
    "\n",
    "# Emit a COMPLETE run event\n",
    "client.emit(RunEvent(\n",
    "    RunState.COMPLETE,\n",
    "    datetime.now().isoformat(),\n",
    "    Run(runID),\n",
    "    Job(namespace='workshop', name='process_orders'),\n",
    "    producer,\n",
    "    inputs=[online_orders, mail_orders],\n",
    "    outputs=[orders]\n",
    "))"
   ]
  }
 ],
 "metadata": {
  "interpreter": {
   "hash": "133105800e001b80c146e145e3821a795658c65b3b455b4e0c2dcd36732c2300"
  },
  "kernelspec": {
   "display_name": "Python 3.9.10 ('.venv': venv)",
   "language": "python",
   "name": "python3"
  },
  "language_info": {
   "codemirror_mode": {
    "name": "ipython",
    "version": 3
   },
   "file_extension": ".py",
   "mimetype": "text/x-python",
   "name": "python",
   "nbconvert_exporter": "python",
   "pygments_lexer": "ipython3",
   "version": "3.9.10"
  },
  "orig_nbformat": 4
 },
 "nbformat": 4,
 "nbformat_minor": 2
}

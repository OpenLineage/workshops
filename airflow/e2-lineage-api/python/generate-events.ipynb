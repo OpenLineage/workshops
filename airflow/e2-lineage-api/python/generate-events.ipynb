{
 "cells": [
  {
   "cell_type": "code",
   "execution_count": 1,
   "metadata": {},
   "outputs": [],
   "source": [
    "from openlineage.client.run import RunEvent, RunState, Run, Job, Dataset\n",
    "from openlineage.client.client import OpenLineageClient\n",
    "from datetime import datetime\n",
    "from uuid import uuid4"
   ]
  },
  {
   "cell_type": "code",
   "execution_count": 2,
   "metadata": {},
   "outputs": [],
   "source": [
    "# Initialize the OpenLineage client\n",
    "client = OpenLineageClient.from_environment()\n",
    "\n",
    "# Specify the producer of this lineage metadata\n",
    "producer = \"https://github.com/OpenLineage/workshops\""
   ]
  },
  {
   "cell_type": "code",
   "execution_count": 3,
   "metadata": {},
   "outputs": [],
   "source": [
    "# Create some basic Dataset objects for our fictional pipeline\n",
    "monthly_summary = Dataset(namespace=\"postgres://workshop-db:None\", name=\"workshop.public.monthly_summary\")\n",
    "commissions = Dataset(namespace=\"postgres://workshop-db:None\", name=\"workshop.public.commissions\")\n",
    "taxes = Dataset(namespace=\"postgres://workshop-db:None\", name=\"workshop.public.taxes\")\n",
    "\n",
    "# Create a Job object\n",
    "job = Job(namespace=\"workshop\", name=\"monthly_accounting\")\n",
    "\n",
    "# Create a Run object with a unique ID\n",
    "run = Run(str(uuid4()))"
   ]
  },
  {
   "cell_type": "code",
   "execution_count": 4,
   "metadata": {},
   "outputs": [],
   "source": [
    "# Emit a START run event\n",
    "client.emit(\n",
    "    RunEvent(\n",
    "        RunState.START,\n",
    "        datetime.now().isoformat(),\n",
    "        run, job, producer\n",
    "    )\n",
    ")"
   ]
  },
  {
   "cell_type": "markdown",
   "metadata": {},
   "source": [
    "This is where our application would do the actual work. Because this is an example, there is no actual data moving around...just metadata.\n",
    "\n",
    "In a real pipeline, our script would be moving data between two PostgreSQL tables."
   ]
  },
  {
   "cell_type": "code",
   "execution_count": 5,
   "metadata": {},
   "outputs": [],
   "source": [
    "# Emit a COMPLETE run event\n",
    "client.emit(\n",
    "    RunEvent(\n",
    "        RunState.COMPLETE,\n",
    "        datetime.now().isoformat(),\n",
    "        run, job, producer,\n",
    "        inputs=[monthly_summary],\n",
    "        outputs=[commissions, taxes],\n",
    "    )\n",
    ")"
   ]
  }
 ],
 "metadata": {
  "interpreter": {
   "hash": "58189f5a3195b6b4c9306aaf46dd0408ea13a15677ccfb305a565ab716ef8e9d"
  },
  "kernelspec": {
   "display_name": "Python 3.9.10 ('.venv': venv)",
   "language": "python",
   "name": "python3"
  },
  "language_info": {
   "codemirror_mode": {
    "name": "ipython",
    "version": 3
   },
   "file_extension": ".py",
   "mimetype": "text/x-python",
   "name": "python",
   "nbconvert_exporter": "python",
   "pygments_lexer": "ipython3",
   "version": "3.9.10"
  },
  "orig_nbformat": 4
 },
 "nbformat": 4,
 "nbformat_minor": 2
}
